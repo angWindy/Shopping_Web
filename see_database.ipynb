{
 "cells": [
  {
   "cell_type": "code",
   "execution_count": 33,
   "metadata": {},
   "outputs": [],
   "source": [
    "import sqlite3\n",
    "import pandas as pd"
   ]
  },
  {
   "cell_type": "code",
   "execution_count": 40,
   "metadata": {},
   "outputs": [],
   "source": [
    "def get_navbar_information():\n",
    "    # Mở kết nối đến cơ sở dữ liệu SQLite\n",
    "    conn = sqlite3.connect('Database/database.db')\n",
    "    conn.row_factory = sqlite3.Row  # Thiết lập row_factory để trả về từ điển thay vì tuple\n",
    "    cursor = conn.cursor()\n",
    "    \n",
    "    # Lấy thông tin user_id từ bảng users (đây là một ví dụ, bạn cần điều chỉnh cho phù hợp với cấu trúc của cơ sở dữ liệu của bạn)\n",
    "    # cursor.execute(\"SELECT user_id FROM users WHERE ...\")\n",
    "    # user_id = cursor.fetchone()[0]  # Giả sử user_id là cột đầu tiên trong kết quả\n",
    "\n",
    "    if False: ## Chưa đăng nhập\n",
    "        user_id = 0\n",
    "    else:\n",
    "        user_id = 0\n",
    "\n",
    "    # Truy vấn để lấy thông tin giỏ hàng dựa trên user_id\n",
    "    cursor.execute(\"SELECT * FROM Cart WHERE user_id IS ? OR user_id = ?\", (user_id, user_id))\n",
    "    cart = cursor.fetchone()\n",
    "\n",
    "    # Chuyển đổi sqlite3.Row thành dictionary\n",
    "    cart = dict(cart) if cart else None\n",
    "\n",
    "    total_quantity = 0\n",
    "    total_amount = 0\n",
    "\n",
    "    # Lấy thông tin về các mặt hàng trong giỏ hàng dựa vào cart['id']\n",
    "    if cart:\n",
    "        # Nếu có giỏ hàng tương ứng, truy vấn để lấy thông tin chi tiết của các mặt hàng trong giỏ hàng dựa trên cart_id và product_id\n",
    "        cursor.execute(\"\"\"\n",
    "            SELECT products.*, CartItems.quantity\n",
    "            FROM CartItems\n",
    "            INNER JOIN Products ON CartItems.product_id = products.id\n",
    "            WHERE CartItems.cart_id = ?\n",
    "        \"\"\", (cart['id'],))\n",
    "        cart_items = [dict(row) for row in cursor.fetchall()]\n",
    "\n",
    "        # Tính tổng số lượng hàng và tổng số tiền\n",
    "        for item in cart_items:\n",
    "            total_quantity += item['quantity']\n",
    "            total_amount += item['quantity'] * item['price']\n",
    "\n",
    "        # Cập nhật giá trị total_quantity và total_amount vào bảng Cart\n",
    "        cursor.execute(\"\"\"\n",
    "            UPDATE cart\n",
    "            SET total_quantity = ?,\n",
    "                total_amount = ?\n",
    "            WHERE id = ?\n",
    "        \"\"\", (total_quantity, total_amount, cart['id']))\n",
    "        conn.commit()\n",
    "\n",
    "    # Đóng kết nối đến cơ sở dữ liệu\n",
    "    conn.close()\n",
    "\n",
    "    # Trả về thông tin đã thu thập được\n",
    "    return user_id, cart, cart_items\n",
    "    "
   ]
  },
  {
   "cell_type": "code",
   "execution_count": 44,
   "metadata": {},
   "outputs": [
    {
     "data": {
      "text/plain": [
       "146.98"
      ]
     },
     "execution_count": 44,
     "metadata": {},
     "output_type": "execute_result"
    }
   ],
   "source": [
    "user_id, cart, cart_items = get_navbar_information()\n",
    "\n",
    "cart['total_amount']"
   ]
  },
  {
   "cell_type": "code",
   "execution_count": 43,
   "metadata": {},
   "outputs": [
    {
     "data": {
      "text/plain": [
       "0    https://assets-global.website-files.com/664488...\n",
       "1    https://assets-global.website-files.com/664488...\n",
       "2    https://assets-global.website-files.com/664488...\n",
       "3    https://assets-global.website-files.com/664488...\n",
       "4    https://assets-global.website-files.com/664488...\n",
       "Name: image_url, dtype: object"
      ]
     },
     "execution_count": 43,
     "metadata": {},
     "output_type": "execute_result"
    }
   ],
   "source": [
    "# Kết nối đến database\n",
    "conn = sqlite3.connect('database/database.db')\n",
    "\n",
    "# Đọc dữ liệu từ bảng Products vào DataFrame\n",
    "df = pd.read_sql_query(\"SELECT * FROM Products\", conn)\n",
    "\n",
    "# Đóng kết nối\n",
    "conn.close()\n",
    "\n",
    "df['image_url']"
   ]
  },
  {
   "cell_type": "code",
   "execution_count": 37,
   "metadata": {},
   "outputs": [
    {
     "data": {
      "text/html": [
       "<div>\n",
       "<style scoped>\n",
       "    .dataframe tbody tr th:only-of-type {\n",
       "        vertical-align: middle;\n",
       "    }\n",
       "\n",
       "    .dataframe tbody tr th {\n",
       "        vertical-align: top;\n",
       "    }\n",
       "\n",
       "    .dataframe thead th {\n",
       "        text-align: right;\n",
       "    }\n",
       "</style>\n",
       "<table border=\"1\" class=\"dataframe\">\n",
       "  <thead>\n",
       "    <tr style=\"text-align: right;\">\n",
       "      <th></th>\n",
       "      <th>id</th>\n",
       "      <th>user_id</th>\n",
       "      <th>total_quantity</th>\n",
       "      <th>total_amount</th>\n",
       "      <th>created_at</th>\n",
       "      <th>updated_at</th>\n",
       "    </tr>\n",
       "  </thead>\n",
       "  <tbody>\n",
       "    <tr>\n",
       "      <th>0</th>\n",
       "      <td>1</td>\n",
       "      <td>0</td>\n",
       "      <td>3</td>\n",
       "      <td>146.98</td>\n",
       "      <td>2024-05-21 06:57:37</td>\n",
       "      <td>2024-05-21 06:57:37</td>\n",
       "    </tr>\n",
       "  </tbody>\n",
       "</table>\n",
       "</div>"
      ],
      "text/plain": [
       "   id  user_id  total_quantity  total_amount           created_at  \\\n",
       "0   1        0               3        146.98  2024-05-21 06:57:37   \n",
       "\n",
       "            updated_at  \n",
       "0  2024-05-21 06:57:37  "
      ]
     },
     "execution_count": 37,
     "metadata": {},
     "output_type": "execute_result"
    }
   ],
   "source": [
    "# Kết nối đến database\n",
    "conn = sqlite3.connect('database/database.db')\n",
    "\n",
    "# Đọc dữ liệu từ bảng Products vào DataFrame\n",
    "df = pd.read_sql_query(\"SELECT * FROM Cart\", conn)\n",
    "\n",
    "# Đóng kết nối\n",
    "conn.close()\n",
    "\n",
    "df"
   ]
  },
  {
   "cell_type": "code",
   "execution_count": 38,
   "metadata": {},
   "outputs": [
    {
     "data": {
      "text/html": [
       "<div>\n",
       "<style scoped>\n",
       "    .dataframe tbody tr th:only-of-type {\n",
       "        vertical-align: middle;\n",
       "    }\n",
       "\n",
       "    .dataframe tbody tr th {\n",
       "        vertical-align: top;\n",
       "    }\n",
       "\n",
       "    .dataframe thead th {\n",
       "        text-align: right;\n",
       "    }\n",
       "</style>\n",
       "<table border=\"1\" class=\"dataframe\">\n",
       "  <thead>\n",
       "    <tr style=\"text-align: right;\">\n",
       "      <th></th>\n",
       "      <th>id</th>\n",
       "      <th>cart_id</th>\n",
       "      <th>product_id</th>\n",
       "      <th>quantity</th>\n",
       "      <th>price</th>\n",
       "    </tr>\n",
       "  </thead>\n",
       "  <tbody>\n",
       "    <tr>\n",
       "      <th>0</th>\n",
       "      <td>1</td>\n",
       "      <td>1</td>\n",
       "      <td>1</td>\n",
       "      <td>2</td>\n",
       "      <td>51.98</td>\n",
       "    </tr>\n",
       "    <tr>\n",
       "      <th>1</th>\n",
       "      <td>2</td>\n",
       "      <td>1</td>\n",
       "      <td>3</td>\n",
       "      <td>1</td>\n",
       "      <td>95.00</td>\n",
       "    </tr>\n",
       "  </tbody>\n",
       "</table>\n",
       "</div>"
      ],
      "text/plain": [
       "   id  cart_id  product_id  quantity  price\n",
       "0   1        1           1         2  51.98\n",
       "1   2        1           3         1  95.00"
      ]
     },
     "execution_count": 38,
     "metadata": {},
     "output_type": "execute_result"
    }
   ],
   "source": [
    "# Kết nối đến database\n",
    "conn = sqlite3.connect('database/database.db')\n",
    "\n",
    "# Đọc dữ liệu từ bảng Products vào DataFrame\n",
    "df = pd.read_sql_query(\"SELECT * FROM CartItems\", conn)\n",
    "\n",
    "# Đóng kết nối\n",
    "conn.close()\n",
    "\n",
    "df"
   ]
  }
 ],
 "metadata": {
  "kernelspec": {
   "display_name": "Python 3",
   "language": "python",
   "name": "python3"
  },
  "language_info": {
   "codemirror_mode": {
    "name": "ipython",
    "version": 3
   },
   "file_extension": ".py",
   "mimetype": "text/x-python",
   "name": "python",
   "nbconvert_exporter": "python",
   "pygments_lexer": "ipython3",
   "version": "3.12.3"
  }
 },
 "nbformat": 4,
 "nbformat_minor": 2
}
